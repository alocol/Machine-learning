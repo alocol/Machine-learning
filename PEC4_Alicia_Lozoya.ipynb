{
  "nbformat": 4,
  "nbformat_minor": 0,
  "metadata": {
    "colab": {
      "name": "PEC4 Alicia Lozoya.ipynb",
      "provenance": [],
      "collapsed_sections": [],
      "mount_file_id": "1Wx2j7Kr2rvmE3BcMCbgxdMIg5Ork-56l",
      "authorship_tag": "ABX9TyMGEES4gdpukxLGpGmPRG+l",
      "include_colab_link": true
    },
    "kernelspec": {
      "name": "python3",
      "display_name": "Python 3"
    },
    "language_info": {
      "name": "python"
    }
  },
  "cells": [
    {
      "cell_type": "markdown",
      "metadata": {
        "id": "view-in-github",
        "colab_type": "text"
      },
      "source": [
        "<a href=\"https://colab.research.google.com/github/alocol/Machine-learning/blob/main/PEC4_Alicia_Lozoya.ipynb\" target=\"_parent\"><img src=\"https://colab.research.google.com/assets/colab-badge.svg\" alt=\"Open In Colab\"/></a>"
      ]
    },
    {
      "cell_type": "markdown",
      "source": [
        "1. Cargar el fichero de datos."
      ],
      "metadata": {
        "id": "Dn7iHNxzCvTy"
      }
    },
    {
      "cell_type": "code",
      "source": [
        "from google.colab import drive\n",
        "\n",
        "drive.mount('/content/drive')"
      ],
      "metadata": {
        "colab": {
          "base_uri": "https://localhost:8080/"
        },
        "id": "EgCB88K0aGxU",
        "outputId": "735ba556-c587-4d44-91ad-feaafd667021"
      },
      "execution_count": 1,
      "outputs": [
        {
          "output_type": "stream",
          "name": "stdout",
          "text": [
            "Drive already mounted at /content/drive; to attempt to forcibly remount, call drive.mount(\"/content/drive\", force_remount=True).\n"
          ]
        }
      ]
    },
    {
      "cell_type": "code",
      "source": [
        "import pandas as pd\n",
        "import numpy as np\n",
        "import matplotlib.pyplot as plt\n",
        "import tensorflow as tf\n",
        "from tensorflow import keras\n",
        "from tensorflow.keras.datasets import mnist\n",
        "from tensorflow.keras.utils import to_categorical\n",
        "from tensorflow.keras.models import Sequential\n",
        "from tensorflow.keras.layers import Dense, Conv2D, Flatten, MaxPooling2D, Dropout\n",
        "from keras.layers.advanced_activations import LeakyReLU\n",
        "from sklearn.preprocessing import MinMaxScaler\n",
        "\n",
        "\n",
        "diabetes = pd.read_table('/content/drive/MyDrive/Colab Notebooks/diabetesnn', delimiter=\" \")\n",
        "print(diabetes)\n",
        "\n"
      ],
      "metadata": {
        "id": "v5l9g_eOa6gR",
        "colab": {
          "base_uri": "https://localhost:8080/"
        },
        "outputId": "a758e885-de6c-4117-a360-0200fbacc36f"
      },
      "execution_count": 2,
      "outputs": [
        {
          "output_type": "stream",
          "name": "stdout",
          "text": [
            "     pregnant   glucose  pressure   triceps   insulin      mass  pedigree  \\\n",
            "1    0.352941  0.670968  0.489796  0.304348  0.170130  0.314928  0.234415   \n",
            "2    0.058824  0.264516  0.428571  0.239130  0.170130  0.171779  0.116567   \n",
            "3    0.470588  0.896774  0.408163  0.240798  0.170130  0.104294  0.253629   \n",
            "4    0.058824  0.290323  0.428571  0.173913  0.096154  0.202454  0.038002   \n",
            "5    0.000000  0.600000  0.163265  0.304348  0.185096  0.509202  0.943638   \n",
            "..        ...       ...       ...       ...       ...       ...       ...   \n",
            "764  0.588235  0.367742  0.530612  0.445652  0.199519  0.300613  0.039710   \n",
            "765  0.117647  0.503226  0.469388  0.217391  0.170130  0.380368  0.111870   \n",
            "766  0.294118  0.496774  0.489796  0.173913  0.117788  0.163599  0.071307   \n",
            "767  0.058824  0.529032  0.367347  0.240798  0.170130  0.243354  0.115713   \n",
            "768  0.058824  0.316129  0.469388  0.260870  0.170130  0.249489  0.101196   \n",
            "\n",
            "          age  class  \n",
            "1    0.483333      1  \n",
            "2    0.166667      0  \n",
            "3    0.183333      1  \n",
            "4    0.000000      0  \n",
            "5    0.200000      1  \n",
            "..        ...    ...  \n",
            "764  0.700000      0  \n",
            "765  0.100000      0  \n",
            "766  0.150000      0  \n",
            "767  0.433333      1  \n",
            "768  0.033333      0  \n",
            "\n",
            "[768 rows x 9 columns]\n"
          ]
        }
      ]
    },
    {
      "cell_type": "code",
      "source": [
        "display(diabetes.describe().transpose())"
      ],
      "metadata": {
        "colab": {
          "base_uri": "https://localhost:8080/",
          "height": 332
        },
        "id": "Ob0vluZRGhvz",
        "outputId": "783e1995-18c9-41bd-b36e-49efb244fc81"
      },
      "execution_count": 3,
      "outputs": [
        {
          "output_type": "display_data",
          "data": {
            "text/plain": [
              "          count      mean       std  min       25%       50%       75%  max\n",
              "pregnant  768.0  0.226180  0.198210  0.0  0.058824  0.176471  0.352941  1.0\n",
              "glucose   768.0  0.501205  0.196361  0.0  0.359677  0.470968  0.620968  1.0\n",
              "pressure  768.0  0.493930  0.123432  0.0  0.408163  0.491863  0.571429  1.0\n",
              "triceps   768.0  0.240798  0.095554  0.0  0.195652  0.240798  0.271739  1.0\n",
              "insulin   768.0  0.170130  0.102189  0.0  0.129207  0.170130  0.170130  1.0\n",
              "mass      768.0  0.291564  0.140596  0.0  0.190184  0.290389  0.376278  1.0\n",
              "pedigree  768.0  0.168179  0.141473  0.0  0.070773  0.125747  0.234095  1.0\n",
              "age       768.0  0.204015  0.196004  0.0  0.050000  0.133333  0.333333  1.0\n",
              "class     768.0  0.348958  0.476951  0.0  0.000000  0.000000  1.000000  1.0"
            ],
            "text/html": [
              "\n",
              "  <div id=\"df-e758ee98-bd73-4bc1-96d6-a087b0a9c3a0\">\n",
              "    <div class=\"colab-df-container\">\n",
              "      <div>\n",
              "<style scoped>\n",
              "    .dataframe tbody tr th:only-of-type {\n",
              "        vertical-align: middle;\n",
              "    }\n",
              "\n",
              "    .dataframe tbody tr th {\n",
              "        vertical-align: top;\n",
              "    }\n",
              "\n",
              "    .dataframe thead th {\n",
              "        text-align: right;\n",
              "    }\n",
              "</style>\n",
              "<table border=\"1\" class=\"dataframe\">\n",
              "  <thead>\n",
              "    <tr style=\"text-align: right;\">\n",
              "      <th></th>\n",
              "      <th>count</th>\n",
              "      <th>mean</th>\n",
              "      <th>std</th>\n",
              "      <th>min</th>\n",
              "      <th>25%</th>\n",
              "      <th>50%</th>\n",
              "      <th>75%</th>\n",
              "      <th>max</th>\n",
              "    </tr>\n",
              "  </thead>\n",
              "  <tbody>\n",
              "    <tr>\n",
              "      <th>pregnant</th>\n",
              "      <td>768.0</td>\n",
              "      <td>0.226180</td>\n",
              "      <td>0.198210</td>\n",
              "      <td>0.0</td>\n",
              "      <td>0.058824</td>\n",
              "      <td>0.176471</td>\n",
              "      <td>0.352941</td>\n",
              "      <td>1.0</td>\n",
              "    </tr>\n",
              "    <tr>\n",
              "      <th>glucose</th>\n",
              "      <td>768.0</td>\n",
              "      <td>0.501205</td>\n",
              "      <td>0.196361</td>\n",
              "      <td>0.0</td>\n",
              "      <td>0.359677</td>\n",
              "      <td>0.470968</td>\n",
              "      <td>0.620968</td>\n",
              "      <td>1.0</td>\n",
              "    </tr>\n",
              "    <tr>\n",
              "      <th>pressure</th>\n",
              "      <td>768.0</td>\n",
              "      <td>0.493930</td>\n",
              "      <td>0.123432</td>\n",
              "      <td>0.0</td>\n",
              "      <td>0.408163</td>\n",
              "      <td>0.491863</td>\n",
              "      <td>0.571429</td>\n",
              "      <td>1.0</td>\n",
              "    </tr>\n",
              "    <tr>\n",
              "      <th>triceps</th>\n",
              "      <td>768.0</td>\n",
              "      <td>0.240798</td>\n",
              "      <td>0.095554</td>\n",
              "      <td>0.0</td>\n",
              "      <td>0.195652</td>\n",
              "      <td>0.240798</td>\n",
              "      <td>0.271739</td>\n",
              "      <td>1.0</td>\n",
              "    </tr>\n",
              "    <tr>\n",
              "      <th>insulin</th>\n",
              "      <td>768.0</td>\n",
              "      <td>0.170130</td>\n",
              "      <td>0.102189</td>\n",
              "      <td>0.0</td>\n",
              "      <td>0.129207</td>\n",
              "      <td>0.170130</td>\n",
              "      <td>0.170130</td>\n",
              "      <td>1.0</td>\n",
              "    </tr>\n",
              "    <tr>\n",
              "      <th>mass</th>\n",
              "      <td>768.0</td>\n",
              "      <td>0.291564</td>\n",
              "      <td>0.140596</td>\n",
              "      <td>0.0</td>\n",
              "      <td>0.190184</td>\n",
              "      <td>0.290389</td>\n",
              "      <td>0.376278</td>\n",
              "      <td>1.0</td>\n",
              "    </tr>\n",
              "    <tr>\n",
              "      <th>pedigree</th>\n",
              "      <td>768.0</td>\n",
              "      <td>0.168179</td>\n",
              "      <td>0.141473</td>\n",
              "      <td>0.0</td>\n",
              "      <td>0.070773</td>\n",
              "      <td>0.125747</td>\n",
              "      <td>0.234095</td>\n",
              "      <td>1.0</td>\n",
              "    </tr>\n",
              "    <tr>\n",
              "      <th>age</th>\n",
              "      <td>768.0</td>\n",
              "      <td>0.204015</td>\n",
              "      <td>0.196004</td>\n",
              "      <td>0.0</td>\n",
              "      <td>0.050000</td>\n",
              "      <td>0.133333</td>\n",
              "      <td>0.333333</td>\n",
              "      <td>1.0</td>\n",
              "    </tr>\n",
              "    <tr>\n",
              "      <th>class</th>\n",
              "      <td>768.0</td>\n",
              "      <td>0.348958</td>\n",
              "      <td>0.476951</td>\n",
              "      <td>0.0</td>\n",
              "      <td>0.000000</td>\n",
              "      <td>0.000000</td>\n",
              "      <td>1.000000</td>\n",
              "      <td>1.0</td>\n",
              "    </tr>\n",
              "  </tbody>\n",
              "</table>\n",
              "</div>\n",
              "      <button class=\"colab-df-convert\" onclick=\"convertToInteractive('df-e758ee98-bd73-4bc1-96d6-a087b0a9c3a0')\"\n",
              "              title=\"Convert this dataframe to an interactive table.\"\n",
              "              style=\"display:none;\">\n",
              "        \n",
              "  <svg xmlns=\"http://www.w3.org/2000/svg\" height=\"24px\"viewBox=\"0 0 24 24\"\n",
              "       width=\"24px\">\n",
              "    <path d=\"M0 0h24v24H0V0z\" fill=\"none\"/>\n",
              "    <path d=\"M18.56 5.44l.94 2.06.94-2.06 2.06-.94-2.06-.94-.94-2.06-.94 2.06-2.06.94zm-11 1L8.5 8.5l.94-2.06 2.06-.94-2.06-.94L8.5 2.5l-.94 2.06-2.06.94zm10 10l.94 2.06.94-2.06 2.06-.94-2.06-.94-.94-2.06-.94 2.06-2.06.94z\"/><path d=\"M17.41 7.96l-1.37-1.37c-.4-.4-.92-.59-1.43-.59-.52 0-1.04.2-1.43.59L10.3 9.45l-7.72 7.72c-.78.78-.78 2.05 0 2.83L4 21.41c.39.39.9.59 1.41.59.51 0 1.02-.2 1.41-.59l7.78-7.78 2.81-2.81c.8-.78.8-2.07 0-2.86zM5.41 20L4 18.59l7.72-7.72 1.47 1.35L5.41 20z\"/>\n",
              "  </svg>\n",
              "      </button>\n",
              "      \n",
              "  <style>\n",
              "    .colab-df-container {\n",
              "      display:flex;\n",
              "      flex-wrap:wrap;\n",
              "      gap: 12px;\n",
              "    }\n",
              "\n",
              "    .colab-df-convert {\n",
              "      background-color: #E8F0FE;\n",
              "      border: none;\n",
              "      border-radius: 50%;\n",
              "      cursor: pointer;\n",
              "      display: none;\n",
              "      fill: #1967D2;\n",
              "      height: 32px;\n",
              "      padding: 0 0 0 0;\n",
              "      width: 32px;\n",
              "    }\n",
              "\n",
              "    .colab-df-convert:hover {\n",
              "      background-color: #E2EBFA;\n",
              "      box-shadow: 0px 1px 2px rgba(60, 64, 67, 0.3), 0px 1px 3px 1px rgba(60, 64, 67, 0.15);\n",
              "      fill: #174EA6;\n",
              "    }\n",
              "\n",
              "    [theme=dark] .colab-df-convert {\n",
              "      background-color: #3B4455;\n",
              "      fill: #D2E3FC;\n",
              "    }\n",
              "\n",
              "    [theme=dark] .colab-df-convert:hover {\n",
              "      background-color: #434B5C;\n",
              "      box-shadow: 0px 1px 3px 1px rgba(0, 0, 0, 0.15);\n",
              "      filter: drop-shadow(0px 1px 2px rgba(0, 0, 0, 0.3));\n",
              "      fill: #FFFFFF;\n",
              "    }\n",
              "  </style>\n",
              "\n",
              "      <script>\n",
              "        const buttonEl =\n",
              "          document.querySelector('#df-e758ee98-bd73-4bc1-96d6-a087b0a9c3a0 button.colab-df-convert');\n",
              "        buttonEl.style.display =\n",
              "          google.colab.kernel.accessAllowed ? 'block' : 'none';\n",
              "\n",
              "        async function convertToInteractive(key) {\n",
              "          const element = document.querySelector('#df-e758ee98-bd73-4bc1-96d6-a087b0a9c3a0');\n",
              "          const dataTable =\n",
              "            await google.colab.kernel.invokeFunction('convertToInteractive',\n",
              "                                                     [key], {});\n",
              "          if (!dataTable) return;\n",
              "\n",
              "          const docLinkHtml = 'Like what you see? Visit the ' +\n",
              "            '<a target=\"_blank\" href=https://colab.research.google.com/notebooks/data_table.ipynb>data table notebook</a>'\n",
              "            + ' to learn more about interactive tables.';\n",
              "          element.innerHTML = '';\n",
              "          dataTable['output_type'] = 'display_data';\n",
              "          await google.colab.output.renderOutput(dataTable, element);\n",
              "          const docLink = document.createElement('div');\n",
              "          docLink.innerHTML = docLinkHtml;\n",
              "          element.appendChild(docLink);\n",
              "        }\n",
              "      </script>\n",
              "    </div>\n",
              "  </div>\n",
              "  "
            ]
          },
          "metadata": {}
        }
      ]
    },
    {
      "cell_type": "markdown",
      "source": [
        "5. Separar train y test."
      ],
      "metadata": {
        "id": "gG86bwvSd6NA"
      }
    },
    {
      "cell_type": "code",
      "source": [
        "# Reparto de datos en train y test de los datos normalizados (67/33)\n",
        "from sklearn.model_selection import train_test_split\n",
        "\n",
        "labels = diabetes['class']\n",
        "labels = labels.astype('int64')\n",
        "\n",
        "diabetes_train, diabetes_test, labels_train, labels_test = train_test_split(diabetes.loc[:,'pregnant':'age'], labels, test_size=0.33, random_state=12345)\n",
        "\n"
      ],
      "metadata": {
        "id": "73DSQZX9d9MI"
      },
      "execution_count": 4,
      "outputs": []
    },
    {
      "cell_type": "markdown",
      "source": [
        "Primera red neuronal profunda 2 capas de 12 y 6 nodos:"
      ],
      "metadata": {
        "id": "gSnXyfPSeF3O"
      }
    },
    {
      "cell_type": "code",
      "source": [
        "model1 = Sequential()\n",
        "# Primera capa oculta densa. Incluye la capa de lectura de dimensión␣\n",
        "len(diabetes_train.columns)\n",
        "model1.add(Dense(12, input_dim=len(diabetes_train.columns),activation='relu'))\n",
        "# Segunda capa oculta\n",
        "model1.add(Dense(6,activation='relu'))\n",
        "model1.add(Dense(1,activation='sigmoid'))\n",
        "model1.summary()"
      ],
      "metadata": {
        "colab": {
          "base_uri": "https://localhost:8080/"
        },
        "id": "I65NR1Bnofp8",
        "outputId": "ffd75907-8e7b-4334-c0d1-5aac024a768d"
      },
      "execution_count": 5,
      "outputs": [
        {
          "output_type": "stream",
          "name": "stdout",
          "text": [
            "Model: \"sequential\"\n",
            "_________________________________________________________________\n",
            " Layer (type)                Output Shape              Param #   \n",
            "=================================================================\n",
            " dense (Dense)               (None, 12)                108       \n",
            "                                                                 \n",
            " dense_1 (Dense)             (None, 6)                 78        \n",
            "                                                                 \n",
            " dense_2 (Dense)             (None, 1)                 7         \n",
            "                                                                 \n",
            "=================================================================\n",
            "Total params: 193\n",
            "Trainable params: 193\n",
            "Non-trainable params: 0\n",
            "_________________________________________________________________\n"
          ]
        }
      ]
    },
    {
      "cell_type": "code",
      "source": [
        "# ajustes del modelo\n",
        "model1.compile(optimizer=\"adam\", loss=keras.losses.binary_crossentropy, metrics=[\"accuracy\"])"
      ],
      "metadata": {
        "id": "kW81ZR4HeHR1"
      },
      "execution_count": 6,
      "outputs": []
    },
    {
      "cell_type": "code",
      "source": [
        "x1 = model1.fit(diabetes_train, labels_train,\n",
        "batch_size= 16, epochs= 60,\n",
        "verbose=1,\n",
        "validation_split= 0.33)"
      ],
      "metadata": {
        "colab": {
          "base_uri": "https://localhost:8080/"
        },
        "id": "RIk6qHZiBh0o",
        "outputId": "b9fe7a3f-be80-4c93-d81d-94cd5543be7d"
      },
      "execution_count": 7,
      "outputs": [
        {
          "output_type": "stream",
          "name": "stdout",
          "text": [
            "Epoch 1/60\n",
            "22/22 [==============================] - 1s 12ms/step - loss: 0.6799 - accuracy: 0.6424 - val_loss: 0.6750 - val_accuracy: 0.6353\n",
            "Epoch 2/60\n",
            "22/22 [==============================] - 0s 4ms/step - loss: 0.6754 - accuracy: 0.6424 - val_loss: 0.6724 - val_accuracy: 0.6353\n",
            "Epoch 3/60\n",
            "22/22 [==============================] - 0s 5ms/step - loss: 0.6715 - accuracy: 0.6424 - val_loss: 0.6699 - val_accuracy: 0.6353\n",
            "Epoch 4/60\n",
            "22/22 [==============================] - 0s 4ms/step - loss: 0.6682 - accuracy: 0.6424 - val_loss: 0.6674 - val_accuracy: 0.6353\n",
            "Epoch 5/60\n",
            "22/22 [==============================] - 0s 3ms/step - loss: 0.6639 - accuracy: 0.6424 - val_loss: 0.6641 - val_accuracy: 0.6353\n",
            "Epoch 6/60\n",
            "22/22 [==============================] - 0s 3ms/step - loss: 0.6589 - accuracy: 0.6424 - val_loss: 0.6602 - val_accuracy: 0.6353\n",
            "Epoch 7/60\n",
            "22/22 [==============================] - 0s 3ms/step - loss: 0.6533 - accuracy: 0.6424 - val_loss: 0.6546 - val_accuracy: 0.6353\n",
            "Epoch 8/60\n",
            "22/22 [==============================] - 0s 3ms/step - loss: 0.6468 - accuracy: 0.6395 - val_loss: 0.6490 - val_accuracy: 0.6353\n",
            "Epoch 9/60\n",
            "22/22 [==============================] - 0s 3ms/step - loss: 0.6403 - accuracy: 0.6483 - val_loss: 0.6436 - val_accuracy: 0.6412\n",
            "Epoch 10/60\n",
            "22/22 [==============================] - 0s 4ms/step - loss: 0.6342 - accuracy: 0.6483 - val_loss: 0.6384 - val_accuracy: 0.6588\n",
            "Epoch 11/60\n",
            "22/22 [==============================] - 0s 4ms/step - loss: 0.6287 - accuracy: 0.6628 - val_loss: 0.6338 - val_accuracy: 0.6706\n",
            "Epoch 12/60\n",
            "22/22 [==============================] - 0s 4ms/step - loss: 0.6222 - accuracy: 0.6715 - val_loss: 0.6293 - val_accuracy: 0.6765\n",
            "Epoch 13/60\n",
            "22/22 [==============================] - 0s 4ms/step - loss: 0.6174 - accuracy: 0.6686 - val_loss: 0.6246 - val_accuracy: 0.6765\n",
            "Epoch 14/60\n",
            "22/22 [==============================] - 0s 3ms/step - loss: 0.6106 - accuracy: 0.6860 - val_loss: 0.6206 - val_accuracy: 0.6882\n",
            "Epoch 15/60\n",
            "22/22 [==============================] - 0s 4ms/step - loss: 0.6043 - accuracy: 0.6919 - val_loss: 0.6157 - val_accuracy: 0.6765\n",
            "Epoch 16/60\n",
            "22/22 [==============================] - 0s 4ms/step - loss: 0.5987 - accuracy: 0.7006 - val_loss: 0.6112 - val_accuracy: 0.6706\n",
            "Epoch 17/60\n",
            "22/22 [==============================] - 0s 4ms/step - loss: 0.5916 - accuracy: 0.7122 - val_loss: 0.6056 - val_accuracy: 0.6765\n",
            "Epoch 18/60\n",
            "22/22 [==============================] - 0s 4ms/step - loss: 0.5862 - accuracy: 0.7093 - val_loss: 0.6012 - val_accuracy: 0.6765\n",
            "Epoch 19/60\n",
            "22/22 [==============================] - 0s 4ms/step - loss: 0.5802 - accuracy: 0.7180 - val_loss: 0.5956 - val_accuracy: 0.6706\n",
            "Epoch 20/60\n",
            "22/22 [==============================] - 0s 4ms/step - loss: 0.5739 - accuracy: 0.7238 - val_loss: 0.5911 - val_accuracy: 0.6882\n",
            "Epoch 21/60\n",
            "22/22 [==============================] - 0s 4ms/step - loss: 0.5668 - accuracy: 0.7384 - val_loss: 0.5859 - val_accuracy: 0.6882\n",
            "Epoch 22/60\n",
            "22/22 [==============================] - 0s 5ms/step - loss: 0.5603 - accuracy: 0.7355 - val_loss: 0.5817 - val_accuracy: 0.6882\n",
            "Epoch 23/60\n",
            "22/22 [==============================] - 0s 4ms/step - loss: 0.5540 - accuracy: 0.7355 - val_loss: 0.5762 - val_accuracy: 0.6824\n",
            "Epoch 24/60\n",
            "22/22 [==============================] - 0s 4ms/step - loss: 0.5478 - accuracy: 0.7326 - val_loss: 0.5716 - val_accuracy: 0.6941\n",
            "Epoch 25/60\n",
            "22/22 [==============================] - 0s 3ms/step - loss: 0.5419 - accuracy: 0.7326 - val_loss: 0.5677 - val_accuracy: 0.6882\n",
            "Epoch 26/60\n",
            "22/22 [==============================] - 0s 4ms/step - loss: 0.5370 - accuracy: 0.7326 - val_loss: 0.5636 - val_accuracy: 0.7000\n",
            "Epoch 27/60\n",
            "22/22 [==============================] - 0s 3ms/step - loss: 0.5313 - accuracy: 0.7558 - val_loss: 0.5598 - val_accuracy: 0.6882\n",
            "Epoch 28/60\n",
            "22/22 [==============================] - 0s 4ms/step - loss: 0.5255 - accuracy: 0.7587 - val_loss: 0.5560 - val_accuracy: 0.7059\n",
            "Epoch 29/60\n",
            "22/22 [==============================] - 0s 3ms/step - loss: 0.5212 - accuracy: 0.7558 - val_loss: 0.5524 - val_accuracy: 0.6941\n",
            "Epoch 30/60\n",
            "22/22 [==============================] - 0s 4ms/step - loss: 0.5175 - accuracy: 0.7558 - val_loss: 0.5485 - val_accuracy: 0.7118\n",
            "Epoch 31/60\n",
            "22/22 [==============================] - 0s 4ms/step - loss: 0.5117 - accuracy: 0.7529 - val_loss: 0.5458 - val_accuracy: 0.7118\n",
            "Epoch 32/60\n",
            "22/22 [==============================] - 0s 4ms/step - loss: 0.5063 - accuracy: 0.7616 - val_loss: 0.5426 - val_accuracy: 0.7176\n",
            "Epoch 33/60\n",
            "22/22 [==============================] - 0s 3ms/step - loss: 0.5027 - accuracy: 0.7587 - val_loss: 0.5421 - val_accuracy: 0.7294\n",
            "Epoch 34/60\n",
            "22/22 [==============================] - 0s 4ms/step - loss: 0.5001 - accuracy: 0.7762 - val_loss: 0.5384 - val_accuracy: 0.7176\n",
            "Epoch 35/60\n",
            "22/22 [==============================] - 0s 3ms/step - loss: 0.4942 - accuracy: 0.7674 - val_loss: 0.5359 - val_accuracy: 0.7176\n",
            "Epoch 36/60\n",
            "22/22 [==============================] - 0s 3ms/step - loss: 0.4910 - accuracy: 0.7733 - val_loss: 0.5347 - val_accuracy: 0.7176\n",
            "Epoch 37/60\n",
            "22/22 [==============================] - 0s 3ms/step - loss: 0.4878 - accuracy: 0.7733 - val_loss: 0.5321 - val_accuracy: 0.7176\n",
            "Epoch 38/60\n",
            "22/22 [==============================] - 0s 4ms/step - loss: 0.4865 - accuracy: 0.7703 - val_loss: 0.5301 - val_accuracy: 0.7176\n",
            "Epoch 39/60\n",
            "22/22 [==============================] - 0s 4ms/step - loss: 0.4821 - accuracy: 0.7762 - val_loss: 0.5303 - val_accuracy: 0.7294\n",
            "Epoch 40/60\n",
            "22/22 [==============================] - 0s 4ms/step - loss: 0.4837 - accuracy: 0.7645 - val_loss: 0.5275 - val_accuracy: 0.7176\n",
            "Epoch 41/60\n",
            "22/22 [==============================] - 0s 3ms/step - loss: 0.4768 - accuracy: 0.7645 - val_loss: 0.5258 - val_accuracy: 0.7176\n",
            "Epoch 42/60\n",
            "22/22 [==============================] - 0s 4ms/step - loss: 0.4764 - accuracy: 0.7674 - val_loss: 0.5276 - val_accuracy: 0.7294\n",
            "Epoch 43/60\n",
            "22/22 [==============================] - 0s 4ms/step - loss: 0.4736 - accuracy: 0.7762 - val_loss: 0.5233 - val_accuracy: 0.7235\n",
            "Epoch 44/60\n",
            "22/22 [==============================] - 0s 4ms/step - loss: 0.4733 - accuracy: 0.7733 - val_loss: 0.5224 - val_accuracy: 0.7176\n",
            "Epoch 45/60\n",
            "22/22 [==============================] - 0s 4ms/step - loss: 0.4701 - accuracy: 0.7791 - val_loss: 0.5209 - val_accuracy: 0.7176\n",
            "Epoch 46/60\n",
            "22/22 [==============================] - 0s 4ms/step - loss: 0.4682 - accuracy: 0.7820 - val_loss: 0.5204 - val_accuracy: 0.7118\n",
            "Epoch 47/60\n",
            "22/22 [==============================] - 0s 4ms/step - loss: 0.4673 - accuracy: 0.7733 - val_loss: 0.5193 - val_accuracy: 0.7000\n",
            "Epoch 48/60\n",
            "22/22 [==============================] - 0s 3ms/step - loss: 0.4662 - accuracy: 0.7762 - val_loss: 0.5208 - val_accuracy: 0.7294\n",
            "Epoch 49/60\n",
            "22/22 [==============================] - 0s 4ms/step - loss: 0.4657 - accuracy: 0.7762 - val_loss: 0.5168 - val_accuracy: 0.7000\n",
            "Epoch 50/60\n",
            "22/22 [==============================] - 0s 4ms/step - loss: 0.4650 - accuracy: 0.7820 - val_loss: 0.5159 - val_accuracy: 0.7000\n",
            "Epoch 51/60\n",
            "22/22 [==============================] - 0s 4ms/step - loss: 0.4614 - accuracy: 0.7791 - val_loss: 0.5164 - val_accuracy: 0.7118\n",
            "Epoch 52/60\n",
            "22/22 [==============================] - 0s 3ms/step - loss: 0.4610 - accuracy: 0.7791 - val_loss: 0.5148 - val_accuracy: 0.7000\n",
            "Epoch 53/60\n",
            "22/22 [==============================] - 0s 3ms/step - loss: 0.4673 - accuracy: 0.7733 - val_loss: 0.5178 - val_accuracy: 0.7353\n",
            "Epoch 54/60\n",
            "22/22 [==============================] - 0s 4ms/step - loss: 0.4641 - accuracy: 0.7762 - val_loss: 0.5126 - val_accuracy: 0.7000\n",
            "Epoch 55/60\n",
            "22/22 [==============================] - 0s 3ms/step - loss: 0.4611 - accuracy: 0.7849 - val_loss: 0.5153 - val_accuracy: 0.7294\n",
            "Epoch 56/60\n",
            "22/22 [==============================] - 0s 4ms/step - loss: 0.4615 - accuracy: 0.7820 - val_loss: 0.5123 - val_accuracy: 0.7000\n",
            "Epoch 57/60\n",
            "22/22 [==============================] - 0s 4ms/step - loss: 0.4597 - accuracy: 0.7762 - val_loss: 0.5142 - val_accuracy: 0.7176\n",
            "Epoch 58/60\n",
            "22/22 [==============================] - 0s 3ms/step - loss: 0.4571 - accuracy: 0.7762 - val_loss: 0.5119 - val_accuracy: 0.7059\n",
            "Epoch 59/60\n",
            "22/22 [==============================] - 0s 3ms/step - loss: 0.4564 - accuracy: 0.7820 - val_loss: 0.5115 - val_accuracy: 0.7118\n",
            "Epoch 60/60\n",
            "22/22 [==============================] - 0s 3ms/step - loss: 0.4557 - accuracy: 0.7820 - val_loss: 0.5143 - val_accuracy: 0.7235\n"
          ]
        }
      ]
    },
    {
      "cell_type": "code",
      "source": [
        "rend1 = model1.evaluate(diabetes_test, labels_test,verbose=0)\n",
        "\n",
        "res1 = [[\"Loss\" ,\"Accuracy\"], [round(rend1[0],3),round(rend1[1],3)]\n",
        "]\n",
        "df=pd.DataFrame(res1)\n",
        "print('\\n'.join(df.to_string(index = False).split('\\n')[1:]))"
      ],
      "metadata": {
        "colab": {
          "base_uri": "https://localhost:8080/"
        },
        "id": "V_3lRIfrtMNs",
        "outputId": "88f1ec82-dec6-441a-d069-20ae07543e26"
      },
      "execution_count": 8,
      "outputs": [
        {
          "output_type": "stream",
          "name": "stdout",
          "text": [
            " Loss Accuracy\n",
            " 0.44    0.795\n"
          ]
        }
      ]
    },
    {
      "cell_type": "code",
      "source": [
        "prediction_m1 = model1.predict(diabetes_test)\n",
        "\n",
        "prediction_m1_binary = (prediction_m1 > 0.5).astype(\"int32\")"
      ],
      "metadata": {
        "id": "K0GRkOJlvDKL"
      },
      "execution_count": 9,
      "outputs": []
    },
    {
      "cell_type": "code",
      "source": [
        "from sklearn.metrics import confusion_matrix, precision_score, cohen_kappa_score, classification_report\n",
        "test_predicted_labels_1 = np.round(model1.predict(diabetes_test)).astype(\"int32\")\n",
        "conf_matrix_1 = confusion_matrix(labels_test, test_predicted_labels_1)"
      ],
      "metadata": {
        "id": "KwlVffknvOvT"
      },
      "execution_count": 10,
      "outputs": []
    },
    {
      "cell_type": "code",
      "source": [
        "Accuracy1=(conf_matrix_1[0,0]+conf_matrix_1[1,1])/(conf_matrix_1[0,0]+conf_matrix_1[1,1]+conf_matrix_1[1,0]+conf_matrix_1[0,1])\n",
        "print ('Accuracy:',round(Accuracy1,4))\n",
        "Sensibilidad1= conf_matrix_1[1,1]/(conf_matrix_1[1,1]+conf_matrix_1[1,0])\n",
        "print ('Sensibilidad:',round(Sensibilidad1,4))\n",
        "Especificidad1= conf_matrix_1[0,0]/(conf_matrix_1[0,0]+conf_matrix_1[0,1])\n",
        "print ('Especificidad:',round(Especificidad1,4))\n"
      ],
      "metadata": {
        "colab": {
          "base_uri": "https://localhost:8080/"
        },
        "id": "NqO_fHDWv4vD",
        "outputId": "fbedf4d5-6ed9-4d73-8a12-7ba47f7f188f"
      },
      "execution_count": 11,
      "outputs": [
        {
          "output_type": "stream",
          "name": "stdout",
          "text": [
            "Accuracy: 0.7953\n",
            "Sensibilidad: 0.506\n",
            "Especificidad: 0.9357\n"
          ]
        }
      ]
    },
    {
      "cell_type": "markdown",
      "source": [
        "Segunda red neuronal profunda 2 capas de 20 y 10 nodos:"
      ],
      "metadata": {
        "id": "92VyjpQLpI0z"
      }
    },
    {
      "cell_type": "code",
      "source": [
        "model2 = Sequential()\n",
        "# Primera capa oculta densa. Incluye la capa de lectura de dimensión␣\n",
        "len(diabetes_train.columns)\n",
        "model2.add(Dense(20, input_dim=len(diabetes_train.columns),activation='relu'))\n",
        "# Segunda capa oculta\n",
        "model2.add(Dense(10,activation='relu'))\n",
        "model2.add(Dense(1,activation='sigmoid'))\n",
        "model2.summary()"
      ],
      "metadata": {
        "colab": {
          "base_uri": "https://localhost:8080/"
        },
        "id": "aYb7Qvo9pNgc",
        "outputId": "ef952568-b423-4e27-c997-7de4e7f12882"
      },
      "execution_count": 12,
      "outputs": [
        {
          "output_type": "stream",
          "name": "stdout",
          "text": [
            "Model: \"sequential_1\"\n",
            "_________________________________________________________________\n",
            " Layer (type)                Output Shape              Param #   \n",
            "=================================================================\n",
            " dense_3 (Dense)             (None, 20)                180       \n",
            "                                                                 \n",
            " dense_4 (Dense)             (None, 10)                210       \n",
            "                                                                 \n",
            " dense_5 (Dense)             (None, 1)                 11        \n",
            "                                                                 \n",
            "=================================================================\n",
            "Total params: 401\n",
            "Trainable params: 401\n",
            "Non-trainable params: 0\n",
            "_________________________________________________________________\n"
          ]
        }
      ]
    },
    {
      "cell_type": "code",
      "source": [
        "# ajustes del modelo\n",
        "model2.compile(optimizer=\"adam\", loss=keras.losses.binary_crossentropy, metrics=[\"accuracy\"])"
      ],
      "metadata": {
        "id": "y65mR-kmM0FZ"
      },
      "execution_count": 13,
      "outputs": []
    },
    {
      "cell_type": "code",
      "source": [
        "x2 = model2.fit(diabetes_train, labels_train,\n",
        "batch_size= 16, epochs= 60,\n",
        "verbose=1,\n",
        "validation_split= 0.33)"
      ],
      "metadata": {
        "colab": {
          "base_uri": "https://localhost:8080/"
        },
        "id": "FPXlWfsqM1es",
        "outputId": "45053139-97dc-408d-cb38-8db4c680b73b"
      },
      "execution_count": 14,
      "outputs": [
        {
          "output_type": "stream",
          "name": "stdout",
          "text": [
            "Epoch 1/60\n",
            "22/22 [==============================] - 1s 11ms/step - loss: 0.7109 - accuracy: 0.4041 - val_loss: 0.6972 - val_accuracy: 0.4765\n",
            "Epoch 2/60\n",
            "22/22 [==============================] - 0s 3ms/step - loss: 0.6781 - accuracy: 0.6134 - val_loss: 0.6765 - val_accuracy: 0.6765\n",
            "Epoch 3/60\n",
            "22/22 [==============================] - 0s 4ms/step - loss: 0.6621 - accuracy: 0.6802 - val_loss: 0.6644 - val_accuracy: 0.6471\n",
            "Epoch 4/60\n",
            "22/22 [==============================] - 0s 4ms/step - loss: 0.6493 - accuracy: 0.6541 - val_loss: 0.6503 - val_accuracy: 0.6294\n",
            "Epoch 5/60\n",
            "22/22 [==============================] - 0s 3ms/step - loss: 0.6295 - accuracy: 0.6977 - val_loss: 0.6303 - val_accuracy: 0.6529\n",
            "Epoch 6/60\n",
            "22/22 [==============================] - 0s 4ms/step - loss: 0.6094 - accuracy: 0.6977 - val_loss: 0.6164 - val_accuracy: 0.6765\n",
            "Epoch 7/60\n",
            "22/22 [==============================] - 0s 4ms/step - loss: 0.5960 - accuracy: 0.7093 - val_loss: 0.6079 - val_accuracy: 0.6824\n",
            "Epoch 8/60\n",
            "22/22 [==============================] - 0s 3ms/step - loss: 0.5882 - accuracy: 0.7093 - val_loss: 0.5986 - val_accuracy: 0.6882\n",
            "Epoch 9/60\n",
            "22/22 [==============================] - 0s 4ms/step - loss: 0.5776 - accuracy: 0.7180 - val_loss: 0.5919 - val_accuracy: 0.6941\n",
            "Epoch 10/60\n",
            "22/22 [==============================] - 0s 3ms/step - loss: 0.5660 - accuracy: 0.7209 - val_loss: 0.5840 - val_accuracy: 0.6941\n",
            "Epoch 11/60\n",
            "22/22 [==============================] - 0s 3ms/step - loss: 0.5586 - accuracy: 0.7151 - val_loss: 0.5789 - val_accuracy: 0.6824\n",
            "Epoch 12/60\n",
            "22/22 [==============================] - 0s 4ms/step - loss: 0.5494 - accuracy: 0.7093 - val_loss: 0.5729 - val_accuracy: 0.6941\n",
            "Epoch 13/60\n",
            "22/22 [==============================] - 0s 3ms/step - loss: 0.5415 - accuracy: 0.7209 - val_loss: 0.5684 - val_accuracy: 0.6824\n",
            "Epoch 14/60\n",
            "22/22 [==============================] - 0s 3ms/step - loss: 0.5370 - accuracy: 0.7355 - val_loss: 0.5644 - val_accuracy: 0.6765\n",
            "Epoch 15/60\n",
            "22/22 [==============================] - 0s 3ms/step - loss: 0.5291 - accuracy: 0.7267 - val_loss: 0.5600 - val_accuracy: 0.6765\n",
            "Epoch 16/60\n",
            "22/22 [==============================] - 0s 4ms/step - loss: 0.5232 - accuracy: 0.7384 - val_loss: 0.5562 - val_accuracy: 0.6765\n",
            "Epoch 17/60\n",
            "22/22 [==============================] - 0s 3ms/step - loss: 0.5187 - accuracy: 0.7442 - val_loss: 0.5547 - val_accuracy: 0.6941\n",
            "Epoch 18/60\n",
            "22/22 [==============================] - 0s 3ms/step - loss: 0.5124 - accuracy: 0.7442 - val_loss: 0.5507 - val_accuracy: 0.6824\n",
            "Epoch 19/60\n",
            "22/22 [==============================] - 0s 3ms/step - loss: 0.5088 - accuracy: 0.7355 - val_loss: 0.5486 - val_accuracy: 0.6706\n",
            "Epoch 20/60\n",
            "22/22 [==============================] - 0s 4ms/step - loss: 0.5054 - accuracy: 0.7442 - val_loss: 0.5470 - val_accuracy: 0.6882\n",
            "Epoch 21/60\n",
            "22/22 [==============================] - 0s 5ms/step - loss: 0.5026 - accuracy: 0.7384 - val_loss: 0.5448 - val_accuracy: 0.6824\n",
            "Epoch 22/60\n",
            "22/22 [==============================] - 0s 3ms/step - loss: 0.4976 - accuracy: 0.7587 - val_loss: 0.5434 - val_accuracy: 0.6824\n",
            "Epoch 23/60\n",
            "22/22 [==============================] - 0s 4ms/step - loss: 0.4947 - accuracy: 0.7529 - val_loss: 0.5415 - val_accuracy: 0.6824\n",
            "Epoch 24/60\n",
            "22/22 [==============================] - 0s 4ms/step - loss: 0.4933 - accuracy: 0.7326 - val_loss: 0.5400 - val_accuracy: 0.6824\n",
            "Epoch 25/60\n",
            "22/22 [==============================] - 0s 4ms/step - loss: 0.4896 - accuracy: 0.7529 - val_loss: 0.5390 - val_accuracy: 0.6824\n",
            "Epoch 26/60\n",
            "22/22 [==============================] - 0s 4ms/step - loss: 0.4879 - accuracy: 0.7384 - val_loss: 0.5375 - val_accuracy: 0.6824\n",
            "Epoch 27/60\n",
            "22/22 [==============================] - 0s 3ms/step - loss: 0.4864 - accuracy: 0.7471 - val_loss: 0.5380 - val_accuracy: 0.6941\n",
            "Epoch 28/60\n",
            "22/22 [==============================] - 0s 4ms/step - loss: 0.4828 - accuracy: 0.7558 - val_loss: 0.5363 - val_accuracy: 0.6941\n",
            "Epoch 29/60\n",
            "22/22 [==============================] - 0s 3ms/step - loss: 0.4820 - accuracy: 0.7558 - val_loss: 0.5354 - val_accuracy: 0.6882\n",
            "Epoch 30/60\n",
            "22/22 [==============================] - 0s 3ms/step - loss: 0.4794 - accuracy: 0.7442 - val_loss: 0.5352 - val_accuracy: 0.6941\n",
            "Epoch 31/60\n",
            "22/22 [==============================] - 0s 4ms/step - loss: 0.4780 - accuracy: 0.7500 - val_loss: 0.5345 - val_accuracy: 0.6941\n",
            "Epoch 32/60\n",
            "22/22 [==============================] - 0s 4ms/step - loss: 0.4766 - accuracy: 0.7529 - val_loss: 0.5354 - val_accuracy: 0.6882\n",
            "Epoch 33/60\n",
            "22/22 [==============================] - 0s 3ms/step - loss: 0.4761 - accuracy: 0.7500 - val_loss: 0.5338 - val_accuracy: 0.6824\n",
            "Epoch 34/60\n",
            "22/22 [==============================] - 0s 4ms/step - loss: 0.4792 - accuracy: 0.7471 - val_loss: 0.5332 - val_accuracy: 0.6882\n",
            "Epoch 35/60\n",
            "22/22 [==============================] - 0s 4ms/step - loss: 0.4729 - accuracy: 0.7558 - val_loss: 0.5315 - val_accuracy: 0.6882\n",
            "Epoch 36/60\n",
            "22/22 [==============================] - 0s 3ms/step - loss: 0.4722 - accuracy: 0.7587 - val_loss: 0.5313 - val_accuracy: 0.6765\n",
            "Epoch 37/60\n",
            "22/22 [==============================] - 0s 3ms/step - loss: 0.4707 - accuracy: 0.7587 - val_loss: 0.5316 - val_accuracy: 0.6824\n",
            "Epoch 38/60\n",
            "22/22 [==============================] - 0s 4ms/step - loss: 0.4688 - accuracy: 0.7645 - val_loss: 0.5304 - val_accuracy: 0.6882\n",
            "Epoch 39/60\n",
            "22/22 [==============================] - 0s 4ms/step - loss: 0.4683 - accuracy: 0.7616 - val_loss: 0.5317 - val_accuracy: 0.6941\n",
            "Epoch 40/60\n",
            "22/22 [==============================] - 0s 3ms/step - loss: 0.4663 - accuracy: 0.7733 - val_loss: 0.5294 - val_accuracy: 0.6882\n",
            "Epoch 41/60\n",
            "22/22 [==============================] - 0s 4ms/step - loss: 0.4659 - accuracy: 0.7703 - val_loss: 0.5297 - val_accuracy: 0.6941\n",
            "Epoch 42/60\n",
            "22/22 [==============================] - 0s 3ms/step - loss: 0.4660 - accuracy: 0.7674 - val_loss: 0.5303 - val_accuracy: 0.6941\n",
            "Epoch 43/60\n",
            "22/22 [==============================] - 0s 3ms/step - loss: 0.4644 - accuracy: 0.7616 - val_loss: 0.5288 - val_accuracy: 0.6882\n",
            "Epoch 44/60\n",
            "22/22 [==============================] - 0s 5ms/step - loss: 0.4663 - accuracy: 0.7674 - val_loss: 0.5302 - val_accuracy: 0.7059\n",
            "Epoch 45/60\n",
            "22/22 [==============================] - 0s 4ms/step - loss: 0.4622 - accuracy: 0.7791 - val_loss: 0.5268 - val_accuracy: 0.6824\n",
            "Epoch 46/60\n",
            "22/22 [==============================] - 0s 3ms/step - loss: 0.4627 - accuracy: 0.7674 - val_loss: 0.5279 - val_accuracy: 0.6941\n",
            "Epoch 47/60\n",
            "22/22 [==============================] - 0s 3ms/step - loss: 0.4613 - accuracy: 0.7674 - val_loss: 0.5277 - val_accuracy: 0.6941\n",
            "Epoch 48/60\n",
            "22/22 [==============================] - 0s 3ms/step - loss: 0.4608 - accuracy: 0.7733 - val_loss: 0.5290 - val_accuracy: 0.7000\n",
            "Epoch 49/60\n",
            "22/22 [==============================] - 0s 3ms/step - loss: 0.4621 - accuracy: 0.7674 - val_loss: 0.5267 - val_accuracy: 0.7000\n",
            "Epoch 50/60\n",
            "22/22 [==============================] - 0s 3ms/step - loss: 0.4620 - accuracy: 0.7645 - val_loss: 0.5262 - val_accuracy: 0.7000\n",
            "Epoch 51/60\n",
            "22/22 [==============================] - 0s 3ms/step - loss: 0.4588 - accuracy: 0.7703 - val_loss: 0.5266 - val_accuracy: 0.7059\n",
            "Epoch 52/60\n",
            "22/22 [==============================] - 0s 4ms/step - loss: 0.4586 - accuracy: 0.7674 - val_loss: 0.5267 - val_accuracy: 0.7059\n",
            "Epoch 53/60\n",
            "22/22 [==============================] - 0s 3ms/step - loss: 0.4627 - accuracy: 0.7762 - val_loss: 0.5258 - val_accuracy: 0.7118\n",
            "Epoch 54/60\n",
            "22/22 [==============================] - 0s 4ms/step - loss: 0.4595 - accuracy: 0.7645 - val_loss: 0.5242 - val_accuracy: 0.7000\n",
            "Epoch 55/60\n",
            "22/22 [==============================] - 0s 3ms/step - loss: 0.4605 - accuracy: 0.7733 - val_loss: 0.5260 - val_accuracy: 0.7118\n",
            "Epoch 56/60\n",
            "22/22 [==============================] - 0s 4ms/step - loss: 0.4577 - accuracy: 0.7762 - val_loss: 0.5225 - val_accuracy: 0.6941\n",
            "Epoch 57/60\n",
            "22/22 [==============================] - 0s 4ms/step - loss: 0.4555 - accuracy: 0.7703 - val_loss: 0.5235 - val_accuracy: 0.7118\n",
            "Epoch 58/60\n",
            "22/22 [==============================] - 0s 3ms/step - loss: 0.4594 - accuracy: 0.7733 - val_loss: 0.5211 - val_accuracy: 0.7000\n",
            "Epoch 59/60\n",
            "22/22 [==============================] - 0s 4ms/step - loss: 0.4569 - accuracy: 0.7703 - val_loss: 0.5196 - val_accuracy: 0.7000\n",
            "Epoch 60/60\n",
            "22/22 [==============================] - 0s 3ms/step - loss: 0.4545 - accuracy: 0.7791 - val_loss: 0.5208 - val_accuracy: 0.7000\n"
          ]
        }
      ]
    },
    {
      "cell_type": "code",
      "source": [
        "rend2 = model2.evaluate(diabetes_test, labels_test,verbose=0)\n",
        "\n",
        "res2 = [[\"Loss\" ,\"Accuracy\"], [round(rend1[0],3),round(rend1[1],3)]\n",
        "]\n",
        "df=pd.DataFrame(res2)\n",
        "print('\\n'.join(df.to_string(index = False).split('\\n')[1:]))"
      ],
      "metadata": {
        "colab": {
          "base_uri": "https://localhost:8080/"
        },
        "outputId": "f67c59e1-53f2-4f34-a1df-ce5a1da1136d",
        "id": "H0QnknTowXmU"
      },
      "execution_count": 15,
      "outputs": [
        {
          "output_type": "stream",
          "name": "stdout",
          "text": [
            " Loss Accuracy\n",
            " 0.44    0.795\n"
          ]
        }
      ]
    },
    {
      "cell_type": "code",
      "source": [
        "prediction_m2 = model2.predict(diabetes_test)\n",
        "\n",
        "prediction_m2_binary = (prediction_m2 > 0.5).astype(\"int32\")"
      ],
      "metadata": {
        "id": "92Z926nJwXmX"
      },
      "execution_count": 16,
      "outputs": []
    },
    {
      "cell_type": "code",
      "source": [
        "from sklearn.metrics import confusion_matrix, precision_score, cohen_kappa_score, classification_report\n",
        "test_predicted_labels_2 = np.round(model2.predict(diabetes_test)).astype(\"int32\")\n",
        "conf_matrix_2 = confusion_matrix(labels_test, test_predicted_labels_2)"
      ],
      "metadata": {
        "id": "QuXwt3n-wXmY"
      },
      "execution_count": 17,
      "outputs": []
    },
    {
      "cell_type": "code",
      "source": [
        "Accuracy2=(conf_matrix_2[0,0]+conf_matrix_2[1,1])/(conf_matrix_2[0,0]+conf_matrix_2[1,1]+conf_matrix_2[1,0]+conf_matrix_2[0,1])\n",
        "print ('Accuracy:',round(Accuracy2,4))\n",
        "Sensibilidad2= conf_matrix_2[1,1]/(conf_matrix_2[1,1]+conf_matrix_2[1,0])\n",
        "print ('Sensibilidad:',round(Sensibilidad2,4))\n",
        "Especificidad2= conf_matrix_2[0,0]/(conf_matrix_2[0,0]+conf_matrix_2[0,1])\n",
        "print ('Especificidad:',round(Especificidad2,4))\n"
      ],
      "metadata": {
        "colab": {
          "base_uri": "https://localhost:8080/"
        },
        "outputId": "f3dd15e9-7a4e-4df8-ee84-44c43a5c1b1d",
        "id": "HfLMZXqrwXmZ"
      },
      "execution_count": 18,
      "outputs": [
        {
          "output_type": "stream",
          "name": "stdout",
          "text": [
            "Accuracy: 0.7913\n",
            "Sensibilidad: 0.5301\n",
            "Especificidad: 0.9181\n"
          ]
        }
      ]
    },
    {
      "cell_type": "markdown",
      "source": [
        "Tercera red neuronal profunda 3 capas de 20, 10 y 5 nodos:"
      ],
      "metadata": {
        "id": "gdJd5p7BpsZ4"
      }
    },
    {
      "cell_type": "code",
      "source": [
        "model3 = Sequential()\n",
        "# Primera capa oculta densa. Incluye la capa de lectura de dimensión␣\n",
        "len(diabetes_train.columns)\n",
        "model3.add(Dense(20, input_dim=len(diabetes_train.columns),activation='relu'))\n",
        "# Segunda capa oculta\n",
        "model3.add(Dense(10,activation='relu'))\n",
        "# Tercera capa oculta\n",
        "model3.add(Dense(5,activation='relu'))\n",
        "model3.add(Dense(1,activation='sigmoid'))\n",
        "model3.summary()"
      ],
      "metadata": {
        "colab": {
          "base_uri": "https://localhost:8080/"
        },
        "id": "BpS6t4trp6--",
        "outputId": "13d19247-9a2e-4fbc-a78d-9dcf54701a40"
      },
      "execution_count": 19,
      "outputs": [
        {
          "output_type": "stream",
          "name": "stdout",
          "text": [
            "Model: \"sequential_2\"\n",
            "_________________________________________________________________\n",
            " Layer (type)                Output Shape              Param #   \n",
            "=================================================================\n",
            " dense_6 (Dense)             (None, 20)                180       \n",
            "                                                                 \n",
            " dense_7 (Dense)             (None, 10)                210       \n",
            "                                                                 \n",
            " dense_8 (Dense)             (None, 5)                 55        \n",
            "                                                                 \n",
            " dense_9 (Dense)             (None, 1)                 6         \n",
            "                                                                 \n",
            "=================================================================\n",
            "Total params: 451\n",
            "Trainable params: 451\n",
            "Non-trainable params: 0\n",
            "_________________________________________________________________\n"
          ]
        }
      ]
    },
    {
      "cell_type": "code",
      "source": [
        "# ajustes del modelo\n",
        "model3.compile(optimizer=\"adam\", loss=keras.losses.binary_crossentropy, metrics=[\"accuracy\"])\n"
      ],
      "metadata": {
        "id": "23J2-r_ONKrX"
      },
      "execution_count": 20,
      "outputs": []
    },
    {
      "cell_type": "code",
      "source": [
        "x3 = model3.fit(diabetes_train, labels_train,\n",
        "batch_size= 16, epochs= 60,\n",
        "verbose=1,\n",
        "validation_split= 0.33)"
      ],
      "metadata": {
        "colab": {
          "base_uri": "https://localhost:8080/"
        },
        "id": "6ypkTa-zNPfu",
        "outputId": "be030ed9-375c-4a95-f1f7-b13212df50f2"
      },
      "execution_count": 21,
      "outputs": [
        {
          "output_type": "stream",
          "name": "stdout",
          "text": [
            "Epoch 1/60\n",
            "22/22 [==============================] - 1s 11ms/step - loss: 0.6871 - accuracy: 0.6424 - val_loss: 0.6791 - val_accuracy: 0.6353\n",
            "Epoch 2/60\n",
            "22/22 [==============================] - 0s 4ms/step - loss: 0.6770 - accuracy: 0.6424 - val_loss: 0.6712 - val_accuracy: 0.6353\n",
            "Epoch 3/60\n",
            "22/22 [==============================] - 0s 3ms/step - loss: 0.6687 - accuracy: 0.6424 - val_loss: 0.6654 - val_accuracy: 0.6353\n",
            "Epoch 4/60\n",
            "22/22 [==============================] - 0s 3ms/step - loss: 0.6635 - accuracy: 0.6424 - val_loss: 0.6610 - val_accuracy: 0.6353\n",
            "Epoch 5/60\n",
            "22/22 [==============================] - 0s 4ms/step - loss: 0.6585 - accuracy: 0.6424 - val_loss: 0.6570 - val_accuracy: 0.6353\n",
            "Epoch 6/60\n",
            "22/22 [==============================] - 0s 4ms/step - loss: 0.6535 - accuracy: 0.6424 - val_loss: 0.6519 - val_accuracy: 0.6353\n",
            "Epoch 7/60\n",
            "22/22 [==============================] - 0s 4ms/step - loss: 0.6475 - accuracy: 0.6424 - val_loss: 0.6445 - val_accuracy: 0.6353\n",
            "Epoch 8/60\n",
            "22/22 [==============================] - 0s 4ms/step - loss: 0.6384 - accuracy: 0.6424 - val_loss: 0.6337 - val_accuracy: 0.6353\n",
            "Epoch 9/60\n",
            "22/22 [==============================] - 0s 4ms/step - loss: 0.6254 - accuracy: 0.6424 - val_loss: 0.6249 - val_accuracy: 0.6353\n",
            "Epoch 10/60\n",
            "22/22 [==============================] - 0s 3ms/step - loss: 0.6155 - accuracy: 0.6424 - val_loss: 0.6166 - val_accuracy: 0.6353\n",
            "Epoch 11/60\n",
            "22/22 [==============================] - 0s 4ms/step - loss: 0.6047 - accuracy: 0.6424 - val_loss: 0.6081 - val_accuracy: 0.6353\n",
            "Epoch 12/60\n",
            "22/22 [==============================] - 0s 5ms/step - loss: 0.5944 - accuracy: 0.6424 - val_loss: 0.6002 - val_accuracy: 0.6353\n",
            "Epoch 13/60\n",
            "22/22 [==============================] - 0s 4ms/step - loss: 0.5828 - accuracy: 0.6424 - val_loss: 0.5921 - val_accuracy: 0.6353\n",
            "Epoch 14/60\n",
            "22/22 [==============================] - 0s 4ms/step - loss: 0.5729 - accuracy: 0.6424 - val_loss: 0.5849 - val_accuracy: 0.6353\n",
            "Epoch 15/60\n",
            "22/22 [==============================] - 0s 3ms/step - loss: 0.5615 - accuracy: 0.6424 - val_loss: 0.5776 - val_accuracy: 0.6353\n",
            "Epoch 16/60\n",
            "22/22 [==============================] - 0s 4ms/step - loss: 0.5522 - accuracy: 0.6512 - val_loss: 0.5694 - val_accuracy: 0.6471\n",
            "Epoch 17/60\n",
            "22/22 [==============================] - 0s 3ms/step - loss: 0.5446 - accuracy: 0.6802 - val_loss: 0.5618 - val_accuracy: 0.7412\n",
            "Epoch 18/60\n",
            "22/22 [==============================] - 0s 4ms/step - loss: 0.5325 - accuracy: 0.7297 - val_loss: 0.5554 - val_accuracy: 0.7294\n",
            "Epoch 19/60\n",
            "22/22 [==============================] - 0s 4ms/step - loss: 0.5215 - accuracy: 0.7733 - val_loss: 0.5489 - val_accuracy: 0.7353\n",
            "Epoch 20/60\n",
            "22/22 [==============================] - 0s 3ms/step - loss: 0.5115 - accuracy: 0.7471 - val_loss: 0.5420 - val_accuracy: 0.7235\n",
            "Epoch 21/60\n",
            "22/22 [==============================] - 0s 4ms/step - loss: 0.5038 - accuracy: 0.7674 - val_loss: 0.5359 - val_accuracy: 0.7059\n",
            "Epoch 22/60\n",
            "22/22 [==============================] - 0s 4ms/step - loss: 0.4959 - accuracy: 0.7907 - val_loss: 0.5336 - val_accuracy: 0.7176\n",
            "Epoch 23/60\n",
            "22/22 [==============================] - 0s 4ms/step - loss: 0.4900 - accuracy: 0.7820 - val_loss: 0.5297 - val_accuracy: 0.7294\n",
            "Epoch 24/60\n",
            "22/22 [==============================] - 0s 4ms/step - loss: 0.4822 - accuracy: 0.7733 - val_loss: 0.5229 - val_accuracy: 0.7118\n",
            "Epoch 25/60\n",
            "22/22 [==============================] - 0s 4ms/step - loss: 0.4774 - accuracy: 0.7849 - val_loss: 0.5198 - val_accuracy: 0.7059\n",
            "Epoch 26/60\n",
            "22/22 [==============================] - 0s 4ms/step - loss: 0.4707 - accuracy: 0.7907 - val_loss: 0.5167 - val_accuracy: 0.7118\n",
            "Epoch 27/60\n",
            "22/22 [==============================] - 0s 3ms/step - loss: 0.4660 - accuracy: 0.7791 - val_loss: 0.5138 - val_accuracy: 0.7118\n",
            "Epoch 28/60\n",
            "22/22 [==============================] - 0s 4ms/step - loss: 0.4640 - accuracy: 0.7936 - val_loss: 0.5156 - val_accuracy: 0.7059\n",
            "Epoch 29/60\n",
            "22/22 [==============================] - 0s 4ms/step - loss: 0.4601 - accuracy: 0.7907 - val_loss: 0.5175 - val_accuracy: 0.7118\n",
            "Epoch 30/60\n",
            "22/22 [==============================] - 0s 4ms/step - loss: 0.4571 - accuracy: 0.7849 - val_loss: 0.5130 - val_accuracy: 0.7059\n",
            "Epoch 31/60\n",
            "22/22 [==============================] - 0s 3ms/step - loss: 0.4519 - accuracy: 0.7849 - val_loss: 0.5062 - val_accuracy: 0.7059\n",
            "Epoch 32/60\n",
            "22/22 [==============================] - 0s 3ms/step - loss: 0.4608 - accuracy: 0.7791 - val_loss: 0.5235 - val_accuracy: 0.7235\n",
            "Epoch 33/60\n",
            "22/22 [==============================] - 0s 3ms/step - loss: 0.4559 - accuracy: 0.7907 - val_loss: 0.5062 - val_accuracy: 0.7059\n",
            "Epoch 34/60\n",
            "22/22 [==============================] - 0s 6ms/step - loss: 0.4479 - accuracy: 0.7994 - val_loss: 0.5037 - val_accuracy: 0.7000\n",
            "Epoch 35/60\n",
            "22/22 [==============================] - 0s 3ms/step - loss: 0.4478 - accuracy: 0.7849 - val_loss: 0.5046 - val_accuracy: 0.7059\n",
            "Epoch 36/60\n",
            "22/22 [==============================] - 0s 4ms/step - loss: 0.4455 - accuracy: 0.7965 - val_loss: 0.5029 - val_accuracy: 0.7118\n",
            "Epoch 37/60\n",
            "22/22 [==============================] - 0s 3ms/step - loss: 0.4455 - accuracy: 0.7936 - val_loss: 0.5028 - val_accuracy: 0.7176\n",
            "Epoch 38/60\n",
            "22/22 [==============================] - 0s 3ms/step - loss: 0.4418 - accuracy: 0.7878 - val_loss: 0.5050 - val_accuracy: 0.7000\n",
            "Epoch 39/60\n",
            "22/22 [==============================] - 0s 4ms/step - loss: 0.4457 - accuracy: 0.7936 - val_loss: 0.5005 - val_accuracy: 0.7118\n",
            "Epoch 40/60\n",
            "22/22 [==============================] - 0s 3ms/step - loss: 0.4486 - accuracy: 0.7791 - val_loss: 0.5040 - val_accuracy: 0.7059\n",
            "Epoch 41/60\n",
            "22/22 [==============================] - 0s 4ms/step - loss: 0.4436 - accuracy: 0.7965 - val_loss: 0.5036 - val_accuracy: 0.7118\n",
            "Epoch 42/60\n",
            "22/22 [==============================] - 0s 4ms/step - loss: 0.4451 - accuracy: 0.7820 - val_loss: 0.5018 - val_accuracy: 0.7118\n",
            "Epoch 43/60\n",
            "22/22 [==============================] - 0s 4ms/step - loss: 0.4427 - accuracy: 0.7936 - val_loss: 0.5019 - val_accuracy: 0.7059\n",
            "Epoch 44/60\n",
            "22/22 [==============================] - 0s 4ms/step - loss: 0.4421 - accuracy: 0.7878 - val_loss: 0.5087 - val_accuracy: 0.7059\n",
            "Epoch 45/60\n",
            "22/22 [==============================] - 0s 4ms/step - loss: 0.4402 - accuracy: 0.7965 - val_loss: 0.5014 - val_accuracy: 0.7118\n",
            "Epoch 46/60\n",
            "22/22 [==============================] - 0s 4ms/step - loss: 0.4373 - accuracy: 0.7878 - val_loss: 0.5043 - val_accuracy: 0.7118\n",
            "Epoch 47/60\n",
            "22/22 [==============================] - 0s 4ms/step - loss: 0.4377 - accuracy: 0.7994 - val_loss: 0.5031 - val_accuracy: 0.7118\n",
            "Epoch 48/60\n",
            "22/22 [==============================] - 0s 4ms/step - loss: 0.4377 - accuracy: 0.8052 - val_loss: 0.4989 - val_accuracy: 0.7118\n",
            "Epoch 49/60\n",
            "22/22 [==============================] - 0s 4ms/step - loss: 0.4388 - accuracy: 0.7849 - val_loss: 0.5108 - val_accuracy: 0.7059\n",
            "Epoch 50/60\n",
            "22/22 [==============================] - 0s 4ms/step - loss: 0.4382 - accuracy: 0.7936 - val_loss: 0.5001 - val_accuracy: 0.7059\n",
            "Epoch 51/60\n",
            "22/22 [==============================] - 0s 4ms/step - loss: 0.4404 - accuracy: 0.7878 - val_loss: 0.5075 - val_accuracy: 0.7059\n",
            "Epoch 52/60\n",
            "22/22 [==============================] - 0s 3ms/step - loss: 0.4391 - accuracy: 0.7878 - val_loss: 0.5037 - val_accuracy: 0.7118\n",
            "Epoch 53/60\n",
            "22/22 [==============================] - 0s 4ms/step - loss: 0.4369 - accuracy: 0.7849 - val_loss: 0.5012 - val_accuracy: 0.7118\n",
            "Epoch 54/60\n",
            "22/22 [==============================] - 0s 4ms/step - loss: 0.4372 - accuracy: 0.7907 - val_loss: 0.5007 - val_accuracy: 0.7059\n",
            "Epoch 55/60\n",
            "22/22 [==============================] - 0s 3ms/step - loss: 0.4411 - accuracy: 0.7762 - val_loss: 0.5075 - val_accuracy: 0.7118\n",
            "Epoch 56/60\n",
            "22/22 [==============================] - 0s 4ms/step - loss: 0.4349 - accuracy: 0.7936 - val_loss: 0.5035 - val_accuracy: 0.7176\n",
            "Epoch 57/60\n",
            "22/22 [==============================] - 0s 4ms/step - loss: 0.4344 - accuracy: 0.7878 - val_loss: 0.5019 - val_accuracy: 0.7118\n",
            "Epoch 58/60\n",
            "22/22 [==============================] - 0s 4ms/step - loss: 0.4380 - accuracy: 0.7820 - val_loss: 0.5061 - val_accuracy: 0.7235\n",
            "Epoch 59/60\n",
            "22/22 [==============================] - 0s 4ms/step - loss: 0.4392 - accuracy: 0.7907 - val_loss: 0.4998 - val_accuracy: 0.7176\n",
            "Epoch 60/60\n",
            "22/22 [==============================] - 0s 3ms/step - loss: 0.4349 - accuracy: 0.7907 - val_loss: 0.5067 - val_accuracy: 0.7294\n"
          ]
        }
      ]
    },
    {
      "cell_type": "code",
      "source": [
        "rend3 = model3.evaluate(diabetes_test, labels_test,verbose=0)\n",
        "\n",
        "res3 = [[\"Loss\" ,\"Accuracy\"], [round(rend1[0],3),round(rend1[1],3)]\n",
        "]\n",
        "df=pd.DataFrame(res3)\n",
        "print('\\n'.join(df.to_string(index = False).split('\\n')[1:]))"
      ],
      "metadata": {
        "colab": {
          "base_uri": "https://localhost:8080/"
        },
        "outputId": "6e9517ea-1f19-499c-9804-d7fe3585ad4f",
        "id": "TJASdKN1xMq4"
      },
      "execution_count": 22,
      "outputs": [
        {
          "output_type": "stream",
          "name": "stdout",
          "text": [
            " Loss Accuracy\n",
            " 0.44    0.795\n"
          ]
        }
      ]
    },
    {
      "cell_type": "code",
      "source": [
        "prediction_m3 = model3.predict(diabetes_test)\n",
        "\n",
        "prediction_m3_binary = (prediction_m3 > 0.5).astype(\"int32\")"
      ],
      "metadata": {
        "id": "5KzjAG1uxMq6"
      },
      "execution_count": 23,
      "outputs": []
    },
    {
      "cell_type": "code",
      "source": [
        "from sklearn.metrics import confusion_matrix, precision_score, cohen_kappa_score, classification_report\n",
        "test_predicted_labels_3 = np.round(model3.predict(diabetes_test)).astype(\"int32\")\n",
        "conf_matrix_3 = confusion_matrix(labels_test, test_predicted_labels_3)"
      ],
      "metadata": {
        "id": "1INsy_XdxMq7"
      },
      "execution_count": 24,
      "outputs": []
    },
    {
      "cell_type": "code",
      "source": [
        "Accuracy3=(conf_matrix_3[0,0]+conf_matrix_3[1,1])/(conf_matrix_3[0,0]+conf_matrix_3[1,1]+conf_matrix_3[1,0]+conf_matrix_3[0,1])\n",
        "print ('Accuracy:',round(Accuracy3,4))\n",
        "Sensibilidad3= conf_matrix_3[1,1]/(conf_matrix_3[1,1]+conf_matrix_3[1,0])\n",
        "print ('Sensibilidad:',round(Sensibilidad3,4))\n",
        "Especificidad3= conf_matrix_3[0,0]/(conf_matrix_3[0,0]+conf_matrix_3[0,1])\n",
        "print ('Especificidad:',round(Especificidad3,4))\n"
      ],
      "metadata": {
        "colab": {
          "base_uri": "https://localhost:8080/"
        },
        "outputId": "0decf9d0-2811-4897-f169-43ca3d8454e5",
        "id": "tF12Ev8oxMq9"
      },
      "execution_count": 25,
      "outputs": [
        {
          "output_type": "stream",
          "name": "stdout",
          "text": [
            "Accuracy: 0.7913\n",
            "Sensibilidad: 0.5181\n",
            "Especificidad: 0.924\n"
          ]
        }
      ]
    },
    {
      "cell_type": "markdown",
      "source": [
        ""
      ],
      "metadata": {
        "id": "fXUAZz0Iry3-"
      }
    }
  ]
}